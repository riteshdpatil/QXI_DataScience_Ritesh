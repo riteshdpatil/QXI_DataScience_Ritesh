{
 "cells": [
  {
   "cell_type": "code",
   "execution_count": 1,
   "metadata": {},
   "outputs": [],
   "source": [
    "import pandas as pd\n",
    "import numpy as np\n",
    "import matplotlib.pyplot as plt\n",
    "from sklearn import model_selection\n",
    "from sklearn.discriminant_analysis import LinearDiscriminantAnalysis\n",
    "from sklearn.decomposition import PCA\n",
    "from random import randint\n",
    "import matplotlib.cm as cm\n",
    "from skimage import io, color\n",
    "import os\n",
    "from PIL import Image\n",
    "from IPython.display import clear_output"
   ]
  },
  {
   "cell_type": "code",
   "execution_count": 2,
   "metadata": {},
   "outputs": [
    {
     "name": "stdout",
     "output_type": "stream",
     "text": [
      "female 9 3040 ekavaz.2.jpg\n"
     ]
    }
   ],
   "source": [
    "# %% Read image data\n",
    "numImg = 20\n",
    "numSbj = 12\n",
    "# A = np.zeros([numImg * numSbj, 180 * 200])\n",
    "# y = np.zeros([numImg * numSbj])\n",
    "fPath = 'faces94'\n",
    "j = numSbj\n",
    "c = 0\n",
    "A = pd.DataFrame([])\n",
    "y = pd.DataFrame([])\n",
    "for i in os.listdir(fPath):\n",
    "    if(j <= 0):\n",
    "        break\n",
    "    j -= 1\n",
    "    for f in os.listdir(fPath + '/' + i):\n",
    "        imgPath = fPath + '/' + i + '/' + f\n",
    "        for filename in os.listdir(imgPath):\n",
    "            if filename.endswith('.jpg'):\n",
    "                try:\n",
    "# #                     img = Image.open(imgPath+'/'+filename) # open the image file\n",
    "# #                     img.verify() # verify that it is, in fact an image\n",
    "                    B = pd.DataFrame(color.rgb2gray(io.imread(imgPath+'/'+filename)).reshape([1, 180 * 200])).reset_index(drop=True)\n",
    "                    A = pd.concat([A,B])\n",
    "#                     A[c, :] = color.rgb2gray(io.imread(imgPath+'/'+filename)).reshape([1, 180 * 200])\n",
    "#                     y[c] = j\n",
    "                    z = pd.DataFrame([j])\n",
    "                    y = pd.concat([y,z])\n",
    "                    c = c + 1\n",
    "                    clear_output()\n",
    "                    print(i,j,c,filename)\n",
    "                except (ValueError, IOError, SyntaxError, IndexError) as e:\n",
    "                    print(e)\n",
    "                    print('Bad file:', filename)\n",
    "#                     #os.remove(base_dir+\"\\\\\"+filename) (Maybe)\n",
    "#         A[c, :] = color.rgb2gray(io.imread(imgPath)).reshape([1, 180 * 200])\n",
    "#         y[c] = j\n",
    "#         c = c + 1\n",
    "\n",
    "A = A.reset_index(drop=True)\n",
    "y = y.reset_index(drop=True)"
   ]
  },
  {
   "cell_type": "code",
   "execution_count": 3,
   "metadata": {},
   "outputs": [
    {
     "data": {
      "text/html": [
       "<div>\n",
       "<style scoped>\n",
       "    .dataframe tbody tr th:only-of-type {\n",
       "        vertical-align: middle;\n",
       "    }\n",
       "\n",
       "    .dataframe tbody tr th {\n",
       "        vertical-align: top;\n",
       "    }\n",
       "\n",
       "    .dataframe thead th {\n",
       "        text-align: right;\n",
       "    }\n",
       "</style>\n",
       "<table border=\"1\" class=\"dataframe\">\n",
       "  <thead>\n",
       "    <tr style=\"text-align: right;\">\n",
       "      <th></th>\n",
       "      <th>0</th>\n",
       "      <th>1</th>\n",
       "      <th>2</th>\n",
       "      <th>3</th>\n",
       "      <th>4</th>\n",
       "      <th>5</th>\n",
       "      <th>6</th>\n",
       "      <th>7</th>\n",
       "      <th>8</th>\n",
       "      <th>9</th>\n",
       "      <th>...</th>\n",
       "      <th>35990</th>\n",
       "      <th>35991</th>\n",
       "      <th>35992</th>\n",
       "      <th>35993</th>\n",
       "      <th>35994</th>\n",
       "      <th>35995</th>\n",
       "      <th>35996</th>\n",
       "      <th>35997</th>\n",
       "      <th>35998</th>\n",
       "      <th>35999</th>\n",
       "    </tr>\n",
       "  </thead>\n",
       "  <tbody>\n",
       "    <tr>\n",
       "      <td>0</td>\n",
       "      <td>0.296428</td>\n",
       "      <td>0.292507</td>\n",
       "      <td>0.288585</td>\n",
       "      <td>0.284664</td>\n",
       "      <td>0.284664</td>\n",
       "      <td>0.292507</td>\n",
       "      <td>0.300350</td>\n",
       "      <td>0.304271</td>\n",
       "      <td>0.304271</td>\n",
       "      <td>0.300350</td>\n",
       "      <td>...</td>\n",
       "      <td>0.924052</td>\n",
       "      <td>0.873072</td>\n",
       "      <td>0.810327</td>\n",
       "      <td>0.834422</td>\n",
       "      <td>0.889324</td>\n",
       "      <td>0.916775</td>\n",
       "      <td>0.897182</td>\n",
       "      <td>0.857966</td>\n",
       "      <td>0.814829</td>\n",
       "      <td>0.791299</td>\n",
       "    </tr>\n",
       "    <tr>\n",
       "      <td>1</td>\n",
       "      <td>0.294188</td>\n",
       "      <td>0.294188</td>\n",
       "      <td>0.294188</td>\n",
       "      <td>0.294188</td>\n",
       "      <td>0.294188</td>\n",
       "      <td>0.294188</td>\n",
       "      <td>0.294188</td>\n",
       "      <td>0.294188</td>\n",
       "      <td>0.286345</td>\n",
       "      <td>0.290267</td>\n",
       "      <td>...</td>\n",
       "      <td>0.916990</td>\n",
       "      <td>0.864625</td>\n",
       "      <td>0.823460</td>\n",
       "      <td>0.861575</td>\n",
       "      <td>0.912555</td>\n",
       "      <td>0.918449</td>\n",
       "      <td>0.884562</td>\n",
       "      <td>0.864954</td>\n",
       "      <td>0.833581</td>\n",
       "      <td>0.813973</td>\n",
       "    </tr>\n",
       "    <tr>\n",
       "      <td>2</td>\n",
       "      <td>0.283830</td>\n",
       "      <td>0.287752</td>\n",
       "      <td>0.295595</td>\n",
       "      <td>0.299516</td>\n",
       "      <td>0.299516</td>\n",
       "      <td>0.295595</td>\n",
       "      <td>0.287752</td>\n",
       "      <td>0.283830</td>\n",
       "      <td>0.303438</td>\n",
       "      <td>0.299516</td>\n",
       "      <td>...</td>\n",
       "      <td>0.859931</td>\n",
       "      <td>0.875617</td>\n",
       "      <td>0.910911</td>\n",
       "      <td>0.930519</td>\n",
       "      <td>0.906990</td>\n",
       "      <td>0.871696</td>\n",
       "      <td>0.835263</td>\n",
       "      <td>0.847027</td>\n",
       "      <td>0.870557</td>\n",
       "      <td>0.894086</td>\n",
       "    </tr>\n",
       "    <tr>\n",
       "      <td>3</td>\n",
       "      <td>0.296428</td>\n",
       "      <td>0.296428</td>\n",
       "      <td>0.296428</td>\n",
       "      <td>0.296428</td>\n",
       "      <td>0.296428</td>\n",
       "      <td>0.296428</td>\n",
       "      <td>0.296428</td>\n",
       "      <td>0.296428</td>\n",
       "      <td>0.304271</td>\n",
       "      <td>0.300350</td>\n",
       "      <td>...</td>\n",
       "      <td>0.877575</td>\n",
       "      <td>0.835836</td>\n",
       "      <td>0.842295</td>\n",
       "      <td>0.887114</td>\n",
       "      <td>0.907287</td>\n",
       "      <td>0.887680</td>\n",
       "      <td>0.826899</td>\n",
       "      <td>0.830820</td>\n",
       "      <td>0.838664</td>\n",
       "      <td>0.850428</td>\n",
       "    </tr>\n",
       "    <tr>\n",
       "      <td>4</td>\n",
       "      <td>0.302039</td>\n",
       "      <td>0.302039</td>\n",
       "      <td>0.302039</td>\n",
       "      <td>0.302039</td>\n",
       "      <td>0.302039</td>\n",
       "      <td>0.302039</td>\n",
       "      <td>0.302039</td>\n",
       "      <td>0.302039</td>\n",
       "      <td>0.305961</td>\n",
       "      <td>0.313804</td>\n",
       "      <td>...</td>\n",
       "      <td>0.901915</td>\n",
       "      <td>0.870542</td>\n",
       "      <td>0.870542</td>\n",
       "      <td>0.917601</td>\n",
       "      <td>0.933287</td>\n",
       "      <td>0.905836</td>\n",
       "      <td>0.880104</td>\n",
       "      <td>0.872261</td>\n",
       "      <td>0.868340</td>\n",
       "      <td>0.872261</td>\n",
       "    </tr>\n",
       "  </tbody>\n",
       "</table>\n",
       "<p>5 rows × 36000 columns</p>\n",
       "</div>"
      ],
      "text/plain": [
       "      0         1         2         3         4         5         6      \\\n",
       "0  0.296428  0.292507  0.288585  0.284664  0.284664  0.292507  0.300350   \n",
       "1  0.294188  0.294188  0.294188  0.294188  0.294188  0.294188  0.294188   \n",
       "2  0.283830  0.287752  0.295595  0.299516  0.299516  0.295595  0.287752   \n",
       "3  0.296428  0.296428  0.296428  0.296428  0.296428  0.296428  0.296428   \n",
       "4  0.302039  0.302039  0.302039  0.302039  0.302039  0.302039  0.302039   \n",
       "\n",
       "      7         8         9      ...     35990     35991     35992     35993  \\\n",
       "0  0.304271  0.304271  0.300350  ...  0.924052  0.873072  0.810327  0.834422   \n",
       "1  0.294188  0.286345  0.290267  ...  0.916990  0.864625  0.823460  0.861575   \n",
       "2  0.283830  0.303438  0.299516  ...  0.859931  0.875617  0.910911  0.930519   \n",
       "3  0.296428  0.304271  0.300350  ...  0.877575  0.835836  0.842295  0.887114   \n",
       "4  0.302039  0.305961  0.313804  ...  0.901915  0.870542  0.870542  0.917601   \n",
       "\n",
       "      35994     35995     35996     35997     35998     35999  \n",
       "0  0.889324  0.916775  0.897182  0.857966  0.814829  0.791299  \n",
       "1  0.912555  0.918449  0.884562  0.864954  0.833581  0.813973  \n",
       "2  0.906990  0.871696  0.835263  0.847027  0.870557  0.894086  \n",
       "3  0.907287  0.887680  0.826899  0.830820  0.838664  0.850428  \n",
       "4  0.933287  0.905836  0.880104  0.872261  0.868340  0.872261  \n",
       "\n",
       "[5 rows x 36000 columns]"
      ]
     },
     "execution_count": 3,
     "metadata": {},
     "output_type": "execute_result"
    }
   ],
   "source": [
    "A = A.reset_index(drop=True)\n",
    "A.head()"
   ]
  },
  {
   "cell_type": "code",
   "execution_count": 7,
   "metadata": {},
   "outputs": [
    {
     "data": {
      "image/png": "[encoded data removed]",
      "text/plain": [
       "<Figure size 432x288 with 4 Axes>"
      ]
     },
     "metadata": {
      "needs_background": "light"
     },
     "output_type": "display_data"
    }
   ],
   "source": [
    "plt.figure()\n",
    "pca = PCA(n_components=4)\n",
    "pca.fit(A)\n",
    "for i in range(4):\n",
    "    ax = plt.subplot(2, 2, i + 1)\n",
    "    ax.imshow(pca.components_[i].reshape([200, 180]))\n",
    "plt.show()"
   ]
  },
  {
   "cell_type": "code",
   "execution_count": 4,
   "metadata": {},
   "outputs": [
    {
     "data": {
      "text/plain": [
       "'faces94/female/ekavaz/ekavaz.2.jpg'"
      ]
     },
     "execution_count": 4,
     "metadata": {},
     "output_type": "execute_result"
    }
   ],
   "source": [
    "imgPath+'/'+filename"
   ]
  },
  {
   "cell_type": "code",
   "execution_count": 8,
   "metadata": {},
   "outputs": [
    {
     "data": {
      "image/png": "[encoded data removed]",
      "text/plain": [
       "<Figure size 432x288 with 1 Axes>"
      ]
     },
     "metadata": {
      "needs_background": "light"
     },
     "output_type": "display_data"
    }
   ],
   "source": [
    "#Colors for distinct individuals\n",
    "cols = ['#{:06x}'.format(randint(0, 0xffffff)) for i in range(numSbj)]\n",
    "pltCol = [cols[int(k)] for k in y]\n",
    "# %% Plot 2d PCA data\n",
    "drA = pca.transform(A)\n",
    "plt.figure()\n",
    "plt.scatter(drA[:, 0], drA[:, 1], color=pltCol)\n",
    "plt.show()"
   ]
  },
  {
   "cell_type": "code",
   "execution_count": null,
   "metadata": {},
   "outputs": [],
   "source": [
    "# for k in y:\n",
    "#     print(y)\n",
    "    \n",
    "y.shape  "
   ]
  },
  {
   "cell_type": "code",
   "execution_count": null,
   "metadata": {},
   "outputs": [],
   "source": [
    "os.listdir(fPath)"
   ]
  },
  {
   "cell_type": "code",
   "execution_count": null,
   "metadata": {},
   "outputs": [],
   "source": [
    "os.listdir(fPath + '/' + 'malestaff' )"
   ]
  },
  {
   "cell_type": "code",
   "execution_count": 23,
   "metadata": {},
   "outputs": [
    {
     "data": {
      "text/plain": [
       "['robin.11.jpg',\n",
       " 'robin.8.jpg',\n",
       " 'robin.15.jpg',\n",
       " 'robin.12.jpg',\n",
       " 'robin.19.jpg',\n",
       " 'robin.7.jpg',\n",
       " 'robin.6.jpg',\n",
       " 'robin.13.jpg',\n",
       " 'robin.1.jpg',\n",
       " 'robin.10.jpg',\n",
       " 'robin.18.jpg',\n",
       " 'robin.16.jpg',\n",
       " 'robin.2.jpg',\n",
       " 'robin.14.jpg',\n",
       " 'robin.17.jpg',\n",
       " 'robin.5.jpg',\n",
       " 'robin.4.jpg',\n",
       " 'robin.9.jpg',\n",
       " 'robin.20.jpg',\n",
       " 'robin.3.jpg']"
      ]
     },
     "execution_count": 23,
     "metadata": {},
     "output_type": "execute_result"
    }
   ],
   "source": [
    "os.listdir(fPath + '/' + 'malestaff/robin')"
   ]
  },
  {
   "cell_type": "code",
   "execution_count": 24,
   "metadata": {},
   "outputs": [
    {
     "data": {
      "text/plain": [
       "array([[0.29642824, 0.29250667, 0.2885851 , ..., 0.85796588, 0.81482863,\n",
       "        0.79129922]])"
      ]
     },
     "execution_count": 24,
     "metadata": {},
     "output_type": "execute_result"
    }
   ],
   "source": [
    "color.rgb2gray(io.imread('faces94/malestaff/robin/robin.11.jpg')).reshape([1, 180 * 200])"
   ]
  },
  {
   "cell_type": "code",
   "execution_count": 33,
   "metadata": {},
   "outputs": [
    {
     "data": {
      "text/plain": [
       "(831, 36000)"
      ]
     },
     "execution_count": 33,
     "metadata": {},
     "output_type": "execute_result"
    }
   ],
   "source": [
    "B.shape"
   ]
  },
  {
   "cell_type": "code",
   "execution_count": 35,
   "metadata": {},
   "outputs": [
    {
     "data": {
      "text/plain": [
       "(240,)"
      ]
     },
     "execution_count": 35,
     "metadata": {},
     "output_type": "execute_result"
    }
   ],
   "source": [
    "y.shape"
   ]
  },
  {
   "cell_type": "code",
   "execution_count": 41,
   "metadata": {},
   "outputs": [],
   "source": [
    "from sklearn.model_selection import cross_validate\n",
    "from sklearn.model_selection import train_test_split\n",
    "from sklearn.model_selection import KFold"
   ]
  },
  {
   "cell_type": "code",
   "execution_count": 74,
   "metadata": {},
   "outputs": [
    {
     "ename": "TypeError",
     "evalue": "'KFold' object is not iterable",
     "output_type": "error",
     "traceback": [
      "\u001b[0;31m---------------------------------------------------------------------------\u001b[0m",
      "\u001b[0;31mTypeError\u001b[0m                                 Traceback (most recent call last)",
      "\u001b[0;32m<ipython-input-74-7cd78a812731>\u001b[0m in \u001b[0;36m<module>\u001b[0;34m\u001b[0m\n\u001b[1;32m      3\u001b[0m \u001b[0;31m#Use cross validation to check performance\u001b[0m\u001b[0;34m\u001b[0m\u001b[0;34m\u001b[0m\u001b[0;34m\u001b[0m\u001b[0m\n\u001b[1;32m      4\u001b[0m \u001b[0mk_fold\u001b[0m \u001b[0;34m=\u001b[0m \u001b[0mmodel_selection\u001b[0m\u001b[0;34m.\u001b[0m\u001b[0mKFold\u001b[0m\u001b[0;34m(\u001b[0m\u001b[0mlen\u001b[0m\u001b[0;34m(\u001b[0m\u001b[0mA\u001b[0m\u001b[0;34m)\u001b[0m\u001b[0;34m,\u001b[0m \u001b[0mshuffle\u001b[0m\u001b[0;34m=\u001b[0m\u001b[0;32mTrue\u001b[0m\u001b[0;34m)\u001b[0m\u001b[0;34m\u001b[0m\u001b[0;34m\u001b[0m\u001b[0m\n\u001b[0;32m----> 5\u001b[0;31m \u001b[0;32mfor\u001b[0m \u001b[0;34m(\u001b[0m\u001b[0mtrn\u001b[0m\u001b[0;34m,\u001b[0m \u001b[0mtst\u001b[0m\u001b[0;34m)\u001b[0m \u001b[0;32min\u001b[0m \u001b[0mk_fold\u001b[0m\u001b[0;34m:\u001b[0m\u001b[0;34m\u001b[0m\u001b[0;34m\u001b[0m\u001b[0m\n\u001b[0m\u001b[1;32m      6\u001b[0m     \u001b[0;31m#Use PCA to transform from dimension F to dimension N-m\u001b[0m\u001b[0;34m\u001b[0m\u001b[0;34m\u001b[0m\u001b[0;34m\u001b[0m\u001b[0m\n\u001b[1;32m      7\u001b[0m     \u001b[0mpca\u001b[0m \u001b[0;34m=\u001b[0m \u001b[0mPCA\u001b[0m\u001b[0;34m(\u001b[0m\u001b[0mn_components\u001b[0m\u001b[0;34m=\u001b[0m\u001b[0;34m(\u001b[0m\u001b[0mlen\u001b[0m\u001b[0;34m(\u001b[0m\u001b[0mtrn\u001b[0m\u001b[0;34m)\u001b[0m \u001b[0;34m-\u001b[0m \u001b[0mnumSbj\u001b[0m\u001b[0;34m)\u001b[0m\u001b[0;34m)\u001b[0m\u001b[0;34m\u001b[0m\u001b[0;34m\u001b[0m\u001b[0m\n",
      "\u001b[0;31mTypeError\u001b[0m: 'KFold' object is not iterable"
     ]
    }
   ],
   "source": [
    "# %%Compute Fisherfaces\n",
    "lda = LinearDiscriminantAnalysis()\n",
    "#Use cross validation to check performance\n",
    "k_fold = model_selection.KFold(len(A), shuffle=True)\n",
    "for (trn, tst) in k_fold:\n",
    "    #Use PCA to transform from dimension F to dimension N-m\n",
    "    pca = PCA(n_components=(len(trn) - numSbj))\n",
    "    pca.fit(A[trn])\n",
    "    #Compute LDA of reduced data\n",
    "    lda.fit(pca.transform(A[trn]), y[trn])\n",
    "    yHat = lda.predict(pca.transform(A[tst]))\n",
    "    #Compute classification error\n",
    "    outVal = accuracy_score(y[tst], yHat)\n",
    "    print('Score: ' + str(outVal))"
   ]
  },
  {
   "cell_type": "code",
   "execution_count": 73,
   "metadata": {
    "scrolled": true
   },
   "outputs": [
    {
     "ename": "TypeError",
     "evalue": "only integer scalar arrays can be converted to a scalar index",
     "output_type": "error",
     "traceback": [
      "\u001b[0;31m---------------------------------------------------------------------------\u001b[0m",
      "\u001b[0;31mTypeError\u001b[0m                                 Traceback (most recent call last)",
      "\u001b[0;32m<ipython-input-73-257c198fe565>\u001b[0m in \u001b[0;36m<module>\u001b[0;34m\u001b[0m\n\u001b[1;32m      2\u001b[0m \u001b[0my_train\u001b[0m \u001b[0;34m=\u001b[0m \u001b[0;34m[\u001b[0m\u001b[0;34m]\u001b[0m\u001b[0;34m\u001b[0m\u001b[0;34m\u001b[0m\u001b[0m\n\u001b[1;32m      3\u001b[0m \u001b[0;32mfor\u001b[0m \u001b[0mi\u001b[0m\u001b[0;34m,\u001b[0m \u001b[0;34m(\u001b[0m\u001b[0mtrain_index\u001b[0m\u001b[0;34m,\u001b[0m \u001b[0mtest_index\u001b[0m\u001b[0;34m)\u001b[0m \u001b[0;32min\u001b[0m \u001b[0menumerate\u001b[0m\u001b[0;34m(\u001b[0m\u001b[0mk_fold\u001b[0m\u001b[0;34m.\u001b[0m\u001b[0msplit\u001b[0m\u001b[0;34m(\u001b[0m\u001b[0mA\u001b[0m\u001b[0;34m)\u001b[0m\u001b[0;34m)\u001b[0m\u001b[0;34m:\u001b[0m\u001b[0;34m\u001b[0m\u001b[0;34m\u001b[0m\u001b[0m\n\u001b[0;32m----> 4\u001b[0;31m             \u001b[0mx_tr\u001b[0m \u001b[0;34m=\u001b[0m \u001b[0mx_train\u001b[0m\u001b[0;34m[\u001b[0m\u001b[0mtrain_index\u001b[0m\u001b[0;34m]\u001b[0m\u001b[0;34m\u001b[0m\u001b[0;34m\u001b[0m\u001b[0m\n\u001b[0m\u001b[1;32m      5\u001b[0m             \u001b[0my_tr\u001b[0m \u001b[0;34m=\u001b[0m \u001b[0my_train\u001b[0m\u001b[0;34m[\u001b[0m\u001b[0mtrain_index\u001b[0m\u001b[0;34m]\u001b[0m\u001b[0;34m\u001b[0m\u001b[0;34m\u001b[0m\u001b[0m\n\u001b[1;32m      6\u001b[0m             \u001b[0mx_te\u001b[0m \u001b[0;34m=\u001b[0m \u001b[0mx_train\u001b[0m\u001b[0;34m[\u001b[0m\u001b[0mtest_index\u001b[0m\u001b[0;34m]\u001b[0m\u001b[0;34m\u001b[0m\u001b[0;34m\u001b[0m\u001b[0m\n",
      "\u001b[0;31mTypeError\u001b[0m: only integer scalar arrays can be converted to a scalar index"
     ]
    }
   ],
   "source": [
    "x_train = []\n",
    "y_train = []\n",
    "for i, (train_index, test_index) in enumerate(k_fold.split(A)):\n",
    "            x_tr = x_train[train_index]\n",
    "            y_tr = y_train[train_index]\n",
    "            x_te = x_train[test_index]"
   ]
  },
  {
   "cell_type": "code",
   "execution_count": 70,
   "metadata": {},
   "outputs": [
    {
     "data": {
      "text/plain": [
       "array([   0,    1,    2, ..., 3037, 3038, 3039])"
      ]
     },
     "execution_count": 70,
     "metadata": {},
     "output_type": "execute_result"
    }
   ],
   "source": [
    "train_index"
   ]
  },
  {
   "cell_type": "code",
   "execution_count": 72,
   "metadata": {},
   "outputs": [
    {
     "data": {
      "text/plain": [
       "(608,)"
      ]
     },
     "execution_count": 72,
     "metadata": {},
     "output_type": "execute_result"
    }
   ],
   "source": [
    "test_index.shape"
   ]
  }
 ],
 "metadata": {
  "kernelspec": {
   "display_name": "Python 3",
   "language": "python",
   "name": "python3"
  },
  "language_info": {
   "codemirror_mode": {
    "name": "ipython",
    "version": 3
   },
   "file_extension": ".py",
   "mimetype": "text/x-python",
   "name": "python",
   "nbconvert_exporter": "python",
   "pygments_lexer": "ipython3",
   "version": "3.7.4"
  }
 },
 "nbformat": 4,
 "nbformat_minor": 2
}
